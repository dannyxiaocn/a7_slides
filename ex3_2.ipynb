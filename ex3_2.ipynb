{
  "cells": [
    {
      "cell_type": "markdown",
      "id": "63c14ef4-4de5-476d-ac2a-7f59ff00f230",
      "metadata": {
        "id": "63c14ef4-4de5-476d-ac2a-7f59ff00f230"
      },
      "source": [
        "# Exercise 3.2"
      ]
    },
    {
      "cell_type": "code",
      "execution_count": null,
      "id": "2806ff98-84f2-4ed0-b2ce-652e24e22ba1",
      "metadata": {
        "id": "2806ff98-84f2-4ed0-b2ce-652e24e22ba1"
      },
      "outputs": [],
      "source": [
        "import torch\n",
        "from PIL import Image\n",
        "from torchvision import transforms\n",
        "import matplotlib.pyplot as plt\n",
        "import pickle\n",
        "from collections import OrderedDict\n",
        "import torch.nn as nn\n",
        "import torch.optim as optim\n",
        "from torch.utils.data import Dataset, DataLoader\n",
        "import numpy as np\n",
        "import pandas as pd\n",
        "from sklearn.metrics import confusion_matrix, precision_score, recall_score, accuracy_score\n",
        "from tqdm import tqdm\n"
      ]
    },
    {
      "cell_type": "code",
      "execution_count": null,
      "id": "02ecddfa",
      "metadata": {
        "id": "02ecddfa"
      },
      "outputs": [],
      "source": [
        "# Define the model\n",
        "case = 'b'\n",
        "num_classes = 10\n",
        "num_epochs = 500"
      ]
    },
    {
      "cell_type": "code",
      "execution_count": null,
      "id": "b1212515",
      "metadata": {
        "colab": {
          "base_uri": "https://localhost:8080/"
        },
        "id": "b1212515",
        "outputId": "b20acf72-48f0-46b2-94de-691a9adb92b2"
      },
      "outputs": [
        {
          "name": "stderr",
          "output_type": "stream",
          "text": [
            "Downloading: \"https://github.com/pytorch/vision/zipball/v0.10.0\" to /root/.cache/torch/hub/v0.10.0.zip\n",
            "/usr/local/lib/python3.11/dist-packages/torchvision/models/_utils.py:208: UserWarning: The parameter 'pretrained' is deprecated since 0.13 and may be removed in the future, please use 'weights' instead.\n",
            "  warnings.warn(\n",
            "/usr/local/lib/python3.11/dist-packages/torchvision/models/_utils.py:223: UserWarning: Arguments other than a weight enum or `None` for 'weights' are deprecated since 0.13 and may be removed in the future. The current behavior is equivalent to passing `weights=AlexNet_Weights.IMAGENET1K_V1`. You can also use `weights=AlexNet_Weights.DEFAULT` to get the most up-to-date weights.\n",
            "  warnings.warn(msg)\n",
            "Downloading: \"https://download.pytorch.org/models/alexnet-owt-7be5be79.pth\" to /root/.cache/torch/hub/checkpoints/alexnet-owt-7be5be79.pth\n",
            "100%|██████████| 233M/233M [00:01<00:00, 162MB/s]\n"
          ]
        },
        {
          "data": {
            "text/plain": [
              "AlexNet(\n",
              "  (features): Sequential(\n",
              "    (0): Conv2d(3, 64, kernel_size=(11, 11), stride=(4, 4), padding=(2, 2))\n",
              "    (1): ReLU(inplace=True)\n",
              "    (2): MaxPool2d(kernel_size=3, stride=2, padding=0, dilation=1, ceil_mode=False)\n",
              "    (3): Conv2d(64, 192, kernel_size=(5, 5), stride=(1, 1), padding=(2, 2))\n",
              "    (4): ReLU(inplace=True)\n",
              "    (5): MaxPool2d(kernel_size=3, stride=2, padding=0, dilation=1, ceil_mode=False)\n",
              "    (6): Conv2d(192, 384, kernel_size=(3, 3), stride=(1, 1), padding=(1, 1))\n",
              "    (7): ReLU(inplace=True)\n",
              "    (8): Conv2d(384, 256, kernel_size=(3, 3), stride=(1, 1), padding=(1, 1))\n",
              "    (9): ReLU(inplace=True)\n",
              "    (10): Conv2d(256, 256, kernel_size=(3, 3), stride=(1, 1), padding=(1, 1))\n",
              "    (11): ReLU(inplace=True)\n",
              "    (12): MaxPool2d(kernel_size=3, stride=2, padding=0, dilation=1, ceil_mode=False)\n",
              "  )\n",
              "  (avgpool): AdaptiveAvgPool2d(output_size=(6, 6))\n",
              "  (classifier): Sequential(\n",
              "    (0): Dropout(p=0.5, inplace=False)\n",
              "    (1): Linear(in_features=9216, out_features=4096, bias=True)\n",
              "    (2): ReLU(inplace=True)\n",
              "    (3): Dropout(p=0.5, inplace=False)\n",
              "    (4): Linear(in_features=4096, out_features=4096, bias=True)\n",
              "    (5): ReLU(inplace=True)\n",
              "    (6): Linear(in_features=4096, out_features=10, bias=True)\n",
              "  )\n",
              ")"
            ]
          },
          "execution_count": 3,
          "metadata": {},
          "output_type": "execute_result"
        }
      ],
      "source": [
        "if case == 'a':\n",
        "    inputs, n_hidden0, n_hidden1, out = 784*3, 64, 16, 10\n",
        "    ckpt_pth = 'best_model_NN.pth'\n",
        "    model = nn.Sequential(\n",
        "    nn.Linear(inputs, n_hidden0, bias=True),\n",
        "    nn.Tanh(),\n",
        "    nn.Linear(n_hidden0, n_hidden1, bias=True),\n",
        "    nn.Tanh(),\n",
        "    nn.Linear(n_hidden1, out, bias=True),\n",
        "    nn.Softmax()\n",
        "    ).to('cuda')\n",
        "elif case == 'b':\n",
        "    ckpt_pth = 'best_model_CNN.pth'\n",
        "    preprocess = transforms.Compose([\n",
        "    transforms.Resize(256),\n",
        "    transforms.CenterCrop(224),\n",
        "    transforms.ToTensor(),\n",
        "    transforms.Normalize(mean=[0.485, 0.456, 0.406], std=[0.229, 0.224, 0.225]),\n",
        "    ])\n",
        "    model = torch.hub.load('pytorch/vision:v0.10.0', 'alexnet', pretrained=True)\n",
        "    model.classifier[6] = nn.Linear(4096, num_classes)\n",
        "    model = model.to('cuda')\n",
        "else:\n",
        "    raise ValueError('Case choice is invalid')\n",
        "\n",
        "model.train()"
      ]
    },
    {
      "cell_type": "code",
      "execution_count": null,
      "id": "QnQWpA5VsqFa",
      "metadata": {
        "id": "QnQWpA5VsqFa"
      },
      "outputs": [],
      "source": []
    },
    {
      "cell_type": "code",
      "execution_count": null,
      "id": "oRPDf_AcW15n",
      "metadata": {
        "colab": {
          "base_uri": "https://localhost:8080/"
        },
        "id": "oRPDf_AcW15n",
        "outputId": "21828968-a548-4b9b-e932-8cbc5ce80acd"
      },
      "outputs": [
        {
          "name": "stdout",
          "output_type": "stream",
          "text": [
            "Mounted at /content/drive\n"
          ]
        }
      ],
      "source": [
        "from google.colab import drive\n",
        "drive.mount('/content/drive')"
      ]
    },
    {
      "cell_type": "code",
      "execution_count": null,
      "id": "74a4216e-550e-4431-8388-c33c29f8ade3",
      "metadata": {
        "id": "74a4216e-550e-4431-8388-c33c29f8ade3"
      },
      "outputs": [],
      "source": [
        "# Load the data\n",
        "with open('/content/drive/MyDrive/0_development_data.pkl', 'rb') as f:\n",
        "    devel_imgs = pickle.load(f)\n",
        "train_imgs = devel_imgs[0][::2]\n",
        "val_imgs = devel_imgs[0][1::2]\n",
        "with open('/content/drive/MyDrive/0_test_data.pkl', 'rb') as f:\n",
        "    test_imgs = pickle.load(f)\n",
        "test_imgs = test_imgs[0]"
      ]
    },
    {
      "cell_type": "code",
      "execution_count": null,
      "id": "92beb835-e8f3-443a-85af-ce49582ab7d8",
      "metadata": {
        "colab": {
          "base_uri": "https://localhost:8080/"
        },
        "id": "92beb835-e8f3-443a-85af-ce49582ab7d8",
        "outputId": "230b7b32-93ff-4e0a-964e-44e3bcd10cc1"
      },
      "outputs": [
        {
          "data": {
            "text/plain": [
              "(10499, 10498, 21003)"
            ]
          },
          "execution_count": 6,
          "metadata": {},
          "output_type": "execute_result"
        }
      ],
      "source": [
        "len(train_imgs), len(val_imgs), len(test_imgs)"
      ]
    },
    {
      "cell_type": "code",
      "execution_count": null,
      "id": "7d0cfc60-a925-42e4-9bec-251f3107a607",
      "metadata": {
        "id": "7d0cfc60-a925-42e4-9bec-251f3107a607"
      },
      "outputs": [],
      "source": [
        "# Extract the labels\n",
        "labels_train = [int(i[0].split('/')[-2]) for i in train_imgs]\n",
        "labels_val = [int(i[0].split('/')[-2]) for i in val_imgs]\n",
        "labels_test = [int(i[0].split('/')[-2]) for i in test_imgs]"
      ]
    },
    {
      "cell_type": "code",
      "execution_count": null,
      "id": "b50f5450-95ef-4f9f-995a-47244d3adb0e",
      "metadata": {
        "id": "b50f5450-95ef-4f9f-995a-47244d3adb0e"
      },
      "outputs": [],
      "source": [
        "# Define the data loader and training objects\n",
        "class CustomDataset(Dataset):\n",
        "    def __init__(self, image_list, labels, transform=None):\n",
        "        self.image_list = image_list\n",
        "        self.labels = labels\n",
        "        self.transform = transform\n",
        "\n",
        "    def __len__(self):\n",
        "        return len(self.image_list)\n",
        "\n",
        "    def __getitem__(self, idx):\n",
        "        if case == 'a':\n",
        "            image = self.image_list[idx].astype(float)\n",
        "            image /= 255.0 # This should be at dataset level\n",
        "            image -= np.sum(np.sum(image,0),0) / (image.shape[0]*image.shape[1])\n",
        "        elif case == 'b':\n",
        "            img_tmp = self.image_list[idx]\n",
        "            image = preprocess(Image.fromarray(img_tmp))\n",
        "        label = self.labels[idx]\n",
        "        return image, label\n",
        "\n",
        "# Define loss function and optimizer\n",
        "criterion = nn.CrossEntropyLoss()\n",
        "if case == 'a':\n",
        "    optimizer = optim.Adam(model.parameters(), lr=0.001, betas=(0.9, 0.999), eps=1e-08, weight_decay=0, amsgrad=False)\n",
        "else:\n",
        "    optimizer = optim.SGD(model.parameters(), lr=0.001, momentum=0.9)\n",
        "\n",
        "# Create CustomDataset instance\n",
        "train_list = [i[1] for i in train_imgs]\n",
        "val_list = [i[1] for i in val_imgs]\n",
        "test_list = [i[1] for i in test_imgs]\n",
        "dataset_train = CustomDataset(train_list, labels_train, transform=None)\n",
        "dataset_val = CustomDataset(val_list, labels_val, transform=None)\n",
        "dataset_test = CustomDataset(test_list, labels_test, transform=None)\n",
        "\n",
        "# Create DataLoader\n",
        "batch_size = 32\n",
        "dataloader_train = DataLoader(dataset_train, batch_size=batch_size, shuffle=True)\n",
        "dataloader_val = DataLoader(dataset_val, batch_size=batch_size, shuffle=True)\n",
        "dataloader_test = DataLoader(dataset_test, batch_size=batch_size, shuffle=False)\n"
      ]
    },
    {
      "cell_type": "code",
      "execution_count": null,
      "id": "fdbbda5d-29c2-4698-8a56-e570ef1ded48",
      "metadata": {
        "colab": {
          "background_save": true,
          "base_uri": "https://localhost:8080/"
        },
        "id": "fdbbda5d-29c2-4698-8a56-e570ef1ded48",
        "scrolled": false,
        "outputId": "12758212-4553-4931-810b-a36d2c5e7117"
      },
      "outputs": [
        {
          "name": "stderr",
          "output_type": "stream",
          "text": [
            "100%|██████████| 329/329 [00:29<00:00, 11.26it/s]\n",
            "100%|██████████| 329/329 [00:21<00:00, 15.07it/s]\n"
          ]
        },
        {
          "name": "stdout",
          "output_type": "stream",
          "text": [
            "Epoch 1, Train loss: 0.1965102383763937, Val loss: 0.0482464290803274\n"
          ]
        },
        {
          "name": "stderr",
          "output_type": "stream",
          "text": [
            "100%|██████████| 329/329 [00:28<00:00, 11.65it/s]\n",
            "100%|██████████| 329/329 [00:21<00:00, 15.21it/s]\n"
          ]
        },
        {
          "name": "stdout",
          "output_type": "stream",
          "text": [
            "Epoch 2, Train loss: 0.04707736953531957, Val loss: 0.03666747139369974\n"
          ]
        },
        {
          "name": "stderr",
          "output_type": "stream",
          "text": [
            "100%|██████████| 329/329 [00:27<00:00, 11.93it/s]\n",
            "100%|██████████| 329/329 [00:21<00:00, 15.16it/s]\n"
          ]
        },
        {
          "name": "stdout",
          "output_type": "stream",
          "text": [
            "Epoch 3, Train loss: 0.02792946599052082, Val loss: 0.025569859325080685\n"
          ]
        },
        {
          "name": "stderr",
          "output_type": "stream",
          "text": [
            "100%|██████████| 329/329 [00:27<00:00, 11.95it/s]\n",
            "100%|██████████| 329/329 [00:21<00:00, 15.26it/s]\n"
          ]
        },
        {
          "name": "stdout",
          "output_type": "stream",
          "text": [
            "Epoch 4, Train loss: 0.02290861827949781, Val loss: 0.034350140970471434\n"
          ]
        },
        {
          "name": "stderr",
          "output_type": "stream",
          "text": [
            "100%|██████████| 329/329 [00:27<00:00, 11.96it/s]\n",
            "100%|██████████| 329/329 [00:20<00:00, 15.94it/s]\n"
          ]
        },
        {
          "name": "stdout",
          "output_type": "stream",
          "text": [
            "Epoch 5, Train loss: 0.014574314137960639, Val loss: 0.019441549291846515\n"
          ]
        },
        {
          "name": "stderr",
          "output_type": "stream",
          "text": [
            "100%|██████████| 329/329 [00:28<00:00, 11.70it/s]\n",
            "100%|██████████| 329/329 [00:21<00:00, 15.28it/s]\n"
          ]
        },
        {
          "name": "stdout",
          "output_type": "stream",
          "text": [
            "Epoch 6, Train loss: 0.011289804453272127, Val loss: 0.024323622905108522\n"
          ]
        },
        {
          "name": "stderr",
          "output_type": "stream",
          "text": [
            "100%|██████████| 329/329 [00:27<00:00, 12.02it/s]\n",
            "100%|██████████| 329/329 [00:22<00:00, 14.70it/s]\n"
          ]
        },
        {
          "name": "stdout",
          "output_type": "stream",
          "text": [
            "Epoch 7, Train loss: 0.009694293545365915, Val loss: 0.016054681557518526\n"
          ]
        },
        {
          "name": "stderr",
          "output_type": "stream",
          "text": [
            "100%|██████████| 329/329 [00:27<00:00, 11.91it/s]\n",
            "100%|██████████| 329/329 [00:22<00:00, 14.64it/s]\n"
          ]
        },
        {
          "name": "stdout",
          "output_type": "stream",
          "text": [
            "Epoch 8, Train loss: 0.007082927833008912, Val loss: 0.012562943824387402\n"
          ]
        },
        {
          "name": "stderr",
          "output_type": "stream",
          "text": [
            "100%|██████████| 329/329 [00:27<00:00, 12.11it/s]\n",
            "100%|██████████| 329/329 [00:21<00:00, 15.43it/s]\n"
          ]
        },
        {
          "name": "stdout",
          "output_type": "stream",
          "text": [
            "Epoch 9, Train loss: 0.005879929079553561, Val loss: 0.02199434192422916\n"
          ]
        },
        {
          "name": "stderr",
          "output_type": "stream",
          "text": [
            "100%|██████████| 329/329 [00:27<00:00, 12.18it/s]\n",
            "100%|██████████| 329/329 [00:20<00:00, 15.82it/s]\n"
          ]
        },
        {
          "name": "stdout",
          "output_type": "stream",
          "text": [
            "Epoch 10, Train loss: 0.003947890209251745, Val loss: 0.016796399318018386\n"
          ]
        },
        {
          "name": "stderr",
          "output_type": "stream",
          "text": [
            "100%|██████████| 329/329 [00:27<00:00, 12.09it/s]\n",
            "100%|██████████| 329/329 [00:21<00:00, 15.30it/s]\n"
          ]
        },
        {
          "name": "stdout",
          "output_type": "stream",
          "text": [
            "Epoch 11, Train loss: 0.0024428479850307403, Val loss: 0.017867766290657942\n"
          ]
        },
        {
          "name": "stderr",
          "output_type": "stream",
          "text": [
            "100%|██████████| 329/329 [00:27<00:00, 12.18it/s]\n",
            "100%|██████████| 329/329 [00:21<00:00, 15.50it/s]\n"
          ]
        },
        {
          "name": "stdout",
          "output_type": "stream",
          "text": [
            "Epoch 12, Train loss: 0.0061585485728790825, Val loss: 0.01751872003854538\n"
          ]
        },
        {
          "name": "stderr",
          "output_type": "stream",
          "text": [
            "100%|██████████| 329/329 [00:27<00:00, 12.09it/s]\n",
            "100%|██████████| 329/329 [00:20<00:00, 15.80it/s]\n"
          ]
        },
        {
          "name": "stdout",
          "output_type": "stream",
          "text": [
            "Epoch 13, Train loss: 0.005585996236307142, Val loss: 0.017168910142696506\n"
          ]
        },
        {
          "name": "stderr",
          "output_type": "stream",
          "text": [
            "100%|██████████| 329/329 [00:27<00:00, 12.08it/s]\n",
            "100%|██████████| 329/329 [00:21<00:00, 15.11it/s]\n"
          ]
        },
        {
          "name": "stdout",
          "output_type": "stream",
          "text": [
            "Epoch 14, Train loss: 0.0041940895187406145, Val loss: 0.016501567400673857\n"
          ]
        },
        {
          "name": "stderr",
          "output_type": "stream",
          "text": [
            "100%|██████████| 329/329 [00:28<00:00, 11.51it/s]\n",
            "100%|██████████| 329/329 [00:22<00:00, 14.88it/s]\n"
          ]
        },
        {
          "name": "stdout",
          "output_type": "stream",
          "text": [
            "Epoch 15, Train loss: 0.0015428605809185854, Val loss: 0.014599562254510673\n"
          ]
        },
        {
          "name": "stderr",
          "output_type": "stream",
          "text": [
            "100%|██████████| 329/329 [00:28<00:00, 11.71it/s]\n",
            "100%|██████████| 329/329 [00:21<00:00, 15.19it/s]\n"
          ]
        },
        {
          "name": "stdout",
          "output_type": "stream",
          "text": [
            "Epoch 16, Train loss: 0.0007609818784652053, Val loss: 0.012043636737226958\n"
          ]
        },
        {
          "name": "stderr",
          "output_type": "stream",
          "text": [
            "100%|██████████| 329/329 [00:27<00:00, 11.87it/s]\n",
            "100%|██████████| 329/329 [00:22<00:00, 14.83it/s]\n"
          ]
        },
        {
          "name": "stdout",
          "output_type": "stream",
          "text": [
            "Epoch 17, Train loss: 0.0011926985509994748, Val loss: 0.013025586417513736\n"
          ]
        },
        {
          "name": "stderr",
          "output_type": "stream",
          "text": [
            "100%|██████████| 329/329 [00:28<00:00, 11.73it/s]\n",
            "100%|██████████| 329/329 [00:22<00:00, 14.77it/s]\n"
          ]
        },
        {
          "name": "stdout",
          "output_type": "stream",
          "text": [
            "Epoch 18, Train loss: 0.005527264473009229, Val loss: 0.014177953743405336\n"
          ]
        },
        {
          "name": "stderr",
          "output_type": "stream",
          "text": [
            "100%|██████████| 329/329 [00:27<00:00, 11.83it/s]\n",
            "100%|██████████| 329/329 [00:22<00:00, 14.67it/s]\n"
          ]
        },
        {
          "name": "stdout",
          "output_type": "stream",
          "text": [
            "Epoch 19, Train loss: 0.0012880916927772922, Val loss: 0.013169280123136414\n"
          ]
        },
        {
          "name": "stderr",
          "output_type": "stream",
          "text": [
            "100%|██████████| 329/329 [00:27<00:00, 11.88it/s]\n",
            "100%|██████████| 329/329 [00:22<00:00, 14.62it/s]\n"
          ]
        },
        {
          "name": "stdout",
          "output_type": "stream",
          "text": [
            "Epoch 20, Train loss: 0.000934354841457576, Val loss: 0.012285665226433165\n"
          ]
        },
        {
          "name": "stderr",
          "output_type": "stream",
          "text": [
            "100%|██████████| 329/329 [00:27<00:00, 11.92it/s]\n",
            "100%|██████████| 329/329 [00:21<00:00, 15.56it/s]\n"
          ]
        },
        {
          "name": "stdout",
          "output_type": "stream",
          "text": [
            "Epoch 21, Train loss: 0.0015653704727607203, Val loss: 0.01575761808536293\n"
          ]
        },
        {
          "name": "stderr",
          "output_type": "stream",
          "text": [
            "100%|██████████| 329/329 [00:27<00:00, 11.81it/s]\n",
            "100%|██████████| 329/329 [00:22<00:00, 14.89it/s]\n"
          ]
        },
        {
          "name": "stdout",
          "output_type": "stream",
          "text": [
            "Epoch 22, Train loss: 0.001916500345427858, Val loss: 0.013090131890400026\n"
          ]
        },
        {
          "name": "stderr",
          "output_type": "stream",
          "text": [
            "100%|██████████| 329/329 [00:28<00:00, 11.60it/s]\n",
            "100%|██████████| 329/329 [00:23<00:00, 14.10it/s]\n"
          ]
        },
        {
          "name": "stdout",
          "output_type": "stream",
          "text": [
            "Epoch 23, Train loss: 0.0012398940072644096, Val loss: 0.011809488648396607\n"
          ]
        },
        {
          "name": "stderr",
          "output_type": "stream",
          "text": [
            "100%|██████████| 329/329 [00:28<00:00, 11.52it/s]\n",
            "100%|██████████| 329/329 [00:22<00:00, 14.43it/s]\n"
          ]
        },
        {
          "name": "stdout",
          "output_type": "stream",
          "text": [
            "Epoch 24, Train loss: 0.0006005594949472529, Val loss: 0.013450798787871901\n"
          ]
        },
        {
          "name": "stderr",
          "output_type": "stream",
          "text": [
            "100%|██████████| 329/329 [00:28<00:00, 11.51it/s]\n",
            "100%|██████████| 329/329 [00:22<00:00, 14.43it/s]\n"
          ]
        },
        {
          "name": "stdout",
          "output_type": "stream",
          "text": [
            "Epoch 25, Train loss: 0.001093694818640926, Val loss: 0.011734736776361283\n"
          ]
        },
        {
          "name": "stderr",
          "output_type": "stream",
          "text": [
            "100%|██████████| 329/329 [00:28<00:00, 11.40it/s]\n",
            "100%|██████████| 329/329 [00:22<00:00, 14.36it/s]\n"
          ]
        },
        {
          "name": "stdout",
          "output_type": "stream",
          "text": [
            "Epoch 26, Train loss: 0.0007754386520561763, Val loss: 0.013588149493240815\n"
          ]
        },
        {
          "name": "stderr",
          "output_type": "stream",
          "text": [
            "100%|██████████| 329/329 [00:28<00:00, 11.55it/s]\n",
            "100%|██████████| 329/329 [00:21<00:00, 15.04it/s]\n"
          ]
        },
        {
          "name": "stdout",
          "output_type": "stream",
          "text": [
            "Epoch 27, Train loss: 0.0014055641309672834, Val loss: 0.014284891239611571\n"
          ]
        },
        {
          "name": "stderr",
          "output_type": "stream",
          "text": [
            "100%|██████████| 329/329 [00:28<00:00, 11.57it/s]\n",
            "100%|██████████| 329/329 [00:21<00:00, 15.08it/s]\n"
          ]
        },
        {
          "name": "stdout",
          "output_type": "stream",
          "text": [
            "Epoch 28, Train loss: 0.0024499451964791834, Val loss: 0.011255900360108538\n"
          ]
        },
        {
          "name": "stderr",
          "output_type": "stream",
          "text": [
            "100%|██████████| 329/329 [00:28<00:00, 11.67it/s]\n",
            "100%|██████████| 329/329 [00:22<00:00, 14.66it/s]\n"
          ]
        },
        {
          "name": "stdout",
          "output_type": "stream",
          "text": [
            "Epoch 29, Train loss: 0.0011591898179034129, Val loss: 0.01239309980928255\n"
          ]
        },
        {
          "name": "stderr",
          "output_type": "stream",
          "text": [
            "100%|██████████| 329/329 [00:28<00:00, 11.60it/s]\n",
            "100%|██████████| 329/329 [00:22<00:00, 14.67it/s]\n"
          ]
        },
        {
          "name": "stdout",
          "output_type": "stream",
          "text": [
            "Epoch 30, Train loss: 0.0003361584236954873, Val loss: 0.013129172797399039\n"
          ]
        },
        {
          "name": "stderr",
          "output_type": "stream",
          "text": [
            "100%|██████████| 329/329 [00:27<00:00, 11.77it/s]\n",
            "100%|██████████| 329/329 [00:21<00:00, 15.02it/s]\n"
          ]
        },
        {
          "name": "stdout",
          "output_type": "stream",
          "text": [
            "Epoch 31, Train loss: 0.0002565772600199804, Val loss: 0.011627925152926155\n"
          ]
        },
        {
          "name": "stderr",
          "output_type": "stream",
          "text": [
            "100%|██████████| 329/329 [00:28<00:00, 11.51it/s]\n",
            "100%|██████████| 329/329 [00:22<00:00, 14.93it/s]\n"
          ]
        },
        {
          "name": "stdout",
          "output_type": "stream",
          "text": [
            "Epoch 32, Train loss: 0.0004871160537060744, Val loss: 0.013364519718538687\n"
          ]
        },
        {
          "name": "stderr",
          "output_type": "stream",
          "text": [
            "100%|██████████| 329/329 [00:28<00:00, 11.39it/s]\n",
            "100%|██████████| 329/329 [00:22<00:00, 14.31it/s]\n"
          ]
        },
        {
          "name": "stdout",
          "output_type": "stream",
          "text": [
            "Epoch 33, Train loss: 0.00014453221014683947, Val loss: 0.012827077631294476\n"
          ]
        },
        {
          "name": "stderr",
          "output_type": "stream",
          "text": [
            "100%|██████████| 329/329 [00:28<00:00, 11.53it/s]\n",
            "100%|██████████| 329/329 [00:22<00:00, 14.58it/s]\n"
          ]
        },
        {
          "name": "stdout",
          "output_type": "stream",
          "text": [
            "Epoch 34, Train loss: 0.00029770886792601344, Val loss: 0.013069488682168123\n"
          ]
        },
        {
          "name": "stderr",
          "output_type": "stream",
          "text": [
            "100%|██████████| 329/329 [00:28<00:00, 11.70it/s]\n",
            "100%|██████████| 329/329 [00:22<00:00, 14.46it/s]\n"
          ]
        },
        {
          "name": "stdout",
          "output_type": "stream",
          "text": [
            "Epoch 35, Train loss: 0.00022806079438718896, Val loss: 0.012869359843962825\n"
          ]
        },
        {
          "name": "stderr",
          "output_type": "stream",
          "text": [
            "100%|██████████| 329/329 [00:27<00:00, 11.82it/s]\n",
            "100%|██████████| 329/329 [00:22<00:00, 14.76it/s]\n"
          ]
        },
        {
          "name": "stdout",
          "output_type": "stream",
          "text": [
            "Epoch 36, Train loss: 0.0005302096503058956, Val loss: 0.01928268274858962\n"
          ]
        },
        {
          "name": "stderr",
          "output_type": "stream",
          "text": [
            "100%|██████████| 329/329 [00:28<00:00, 11.64it/s]\n",
            "100%|██████████| 329/329 [00:23<00:00, 14.21it/s]\n"
          ]
        },
        {
          "name": "stdout",
          "output_type": "stream",
          "text": [
            "Epoch 37, Train loss: 0.0013566830439909704, Val loss: 0.012173615121737919\n"
          ]
        },
        {
          "name": "stderr",
          "output_type": "stream",
          "text": [
            "100%|██████████| 329/329 [00:27<00:00, 11.90it/s]\n",
            "100%|██████████| 329/329 [00:21<00:00, 15.05it/s]"
          ]
        },
        {
          "name": "stdout",
          "output_type": "stream",
          "text": [
            "-------- Early Stopping ------------\n",
            "Epoch 38, Train loss: 0.00029685398084673464, Val loss: 0.012096683899105364\n"
          ]
        },
        {
          "name": "stderr",
          "output_type": "stream",
          "text": [
            "\n"
          ]
        }
      ],
      "source": [
        "# Training loop\n",
        "early_stopping_patience = 10\n",
        "\n",
        "best_val_loss = 10000.0\n",
        "for epoch in range(num_epochs):\n",
        "    running_loss, running_val_loss = 0.0, 0.0\n",
        "    model.train()\n",
        "    for inputs_, labels_ in tqdm(dataloader_train):\n",
        "\n",
        "        if case == 'a': inputs_ = torch.reshape(inputs_, (inputs_.shape[0], -1))\n",
        "        inputs_, labels_ = inputs_.to(torch.float).to('cuda'), labels_.to('cuda')\n",
        "        optimizer.zero_grad()\n",
        "        outputs = model(inputs_)\n",
        "        loss = criterion(outputs, labels_)\n",
        "        loss.backward()\n",
        "        optimizer.step()\n",
        "        running_loss += loss.item()\n",
        "\n",
        "    model.eval()\n",
        "    with torch.no_grad():\n",
        "        for inputs_val, labels_val in tqdm(dataloader_val):\n",
        "            if case == 'a': inputs_val = torch.reshape(inputs_val, (inputs_val.shape[0], -1))\n",
        "            inputs_val, labels_val = inputs_val.to(torch.float).to('cuda'), labels_val.to('cuda')\n",
        "            outputs_val = model(inputs_val)\n",
        "            val_loss = criterion(outputs_val, labels_val)\n",
        "            running_val_loss += val_loss.item()\n",
        "\n",
        "    epoch_val_loss = running_val_loss/len(dataloader_val)\n",
        "    if epoch_val_loss < best_val_loss:\n",
        "        early_stopping_counter = 0\n",
        "        best_val_loss = float(epoch_val_loss)\n",
        "        torch.save(model.state_dict(), ckpt_pth)\n",
        "    else:\n",
        "        early_stopping_counter += 1\n",
        "        if early_stopping_counter==early_stopping_patience:\n",
        "            print('-------- Early Stopping ------------')\n",
        "            print(f'Epoch {epoch+1}, Train loss: {running_loss/len(dataloader_train)}, Val loss: {running_val_loss/len(dataloader_val)}')\n",
        "            break\n",
        "\n",
        "    print(f'Epoch {epoch+1}, Train loss: {running_loss/len(dataloader_train)}, Val loss: {epoch_val_loss}')"
      ]
    },
    {
      "cell_type": "code",
      "execution_count": null,
      "id": "5b91e72f-1667-4dbe-9b54-f9cb84542824",
      "metadata": {
        "colab": {
          "background_save": true
        },
        "id": "5b91e72f-1667-4dbe-9b54-f9cb84542824",
        "outputId": "9be98b94-c0c4-45d8-d03f-b489aafcb415"
      },
      "outputs": [
        {
          "data": {
            "text/plain": [
              "AlexNet(\n",
              "  (features): Sequential(\n",
              "    (0): Conv2d(3, 64, kernel_size=(11, 11), stride=(4, 4), padding=(2, 2))\n",
              "    (1): ReLU(inplace=True)\n",
              "    (2): MaxPool2d(kernel_size=3, stride=2, padding=0, dilation=1, ceil_mode=False)\n",
              "    (3): Conv2d(64, 192, kernel_size=(5, 5), stride=(1, 1), padding=(2, 2))\n",
              "    (4): ReLU(inplace=True)\n",
              "    (5): MaxPool2d(kernel_size=3, stride=2, padding=0, dilation=1, ceil_mode=False)\n",
              "    (6): Conv2d(192, 384, kernel_size=(3, 3), stride=(1, 1), padding=(1, 1))\n",
              "    (7): ReLU(inplace=True)\n",
              "    (8): Conv2d(384, 256, kernel_size=(3, 3), stride=(1, 1), padding=(1, 1))\n",
              "    (9): ReLU(inplace=True)\n",
              "    (10): Conv2d(256, 256, kernel_size=(3, 3), stride=(1, 1), padding=(1, 1))\n",
              "    (11): ReLU(inplace=True)\n",
              "    (12): MaxPool2d(kernel_size=3, stride=2, padding=0, dilation=1, ceil_mode=False)\n",
              "  )\n",
              "  (avgpool): AdaptiveAvgPool2d(output_size=(6, 6))\n",
              "  (classifier): Sequential(\n",
              "    (0): Dropout(p=0.5, inplace=False)\n",
              "    (1): Linear(in_features=9216, out_features=4096, bias=True)\n",
              "    (2): ReLU(inplace=True)\n",
              "    (3): Dropout(p=0.5, inplace=False)\n",
              "    (4): Linear(in_features=4096, out_features=4096, bias=True)\n",
              "    (5): ReLU(inplace=True)\n",
              "    (6): Linear(in_features=4096, out_features=10, bias=True)\n",
              "  )\n",
              ")"
            ]
          },
          "execution_count": 10,
          "metadata": {},
          "output_type": "execute_result"
        }
      ],
      "source": [
        "# Make predictions on the train data\n",
        "model.load_state_dict(torch.load(ckpt_pth, weights_only=True))\n",
        "model.eval()"
      ]
    },
    {
      "cell_type": "code",
      "execution_count": null,
      "id": "23a0db36-5b2b-44f9-8210-f94641d522ba",
      "metadata": {
        "colab": {
          "background_save": true
        },
        "id": "23a0db36-5b2b-44f9-8210-f94641d522ba"
      },
      "outputs": [],
      "source": [
        "# Inference function\n",
        "def get_predictions(input_batch, model):\n",
        "\n",
        "    # move the input and model to GPU for speed if available\n",
        "    if torch.cuda.is_available():\n",
        "        input_batch = input_batch.to('cuda')\n",
        "        model.to('cuda')\n",
        "\n",
        "    with torch.no_grad():\n",
        "        output = model(input_batch)\n",
        "\n",
        "    probabilities = torch.nn.functional.softmax(output, dim=1)\n",
        "    return probabilities"
      ]
    },
    {
      "cell_type": "code",
      "execution_count": null,
      "id": "3b11e70b-44ba-485b-a5a6-f8dd5c6009cd",
      "metadata": {
        "colab": {
          "background_save": true
        },
        "id": "3b11e70b-44ba-485b-a5a6-f8dd5c6009cd",
        "outputId": "d493673b-696a-40c7-b974-2ddb47958deb"
      },
      "outputs": [
        {
          "name": "stderr",
          "output_type": "stream",
          "text": [
            "100%|██████████| 657/657 [00:44<00:00, 14.67it/s]\n"
          ]
        }
      ],
      "source": [
        "# Run inference\n",
        "preds_list = []\n",
        "batch_size = 64\n",
        "with torch.no_grad():\n",
        "    for inputs_test, _ in tqdm(dataloader_test):\n",
        "        if case == 'a': inputs_test = torch.reshape(inputs_test, (inputs_test.shape[0], -1))\n",
        "        inputs_test = inputs_test.to(torch.float).to('cuda')\n",
        "        preds_list.append(get_predictions(inputs_test, model).cpu().numpy())\n",
        "final_preds = np.argmax(np.reshape(np.vstack(preds_list), (-1,10)),1)"
      ]
    },
    {
      "cell_type": "code",
      "execution_count": null,
      "id": "9e192ffc-2e00-4a8e-83c2-cb8727bf7d8f",
      "metadata": {
        "colab": {
          "background_save": true
        },
        "id": "9e192ffc-2e00-4a8e-83c2-cb8727bf7d8f"
      },
      "outputs": [],
      "source": [
        "# Generate all interesting metrics\n",
        "def multiclass_metrics(y_true, y_pred, labels):\n",
        "    \"\"\"\n",
        "    Compute per-class accuracy, sensitivity (recall), specificity, and precision.\n",
        "\n",
        "    y_true, y_pred : array-like of shape (n_samples,)\n",
        "    labels         : list of class labels, e.g. [0,1,...,9]\n",
        "    \"\"\"\n",
        "    # Compute the full confusion matrix once\n",
        "    cm = confusion_matrix(y_true, y_pred, labels=labels)\n",
        "    # cm[i, j] is count of true class i predicted as class j\n",
        "\n",
        "    # Prepare containers\n",
        "    metrics = {\n",
        "        \"class\": [],\n",
        "        \"accuracy\": [],\n",
        "        \"sensitivity (recall)\": [],\n",
        "        \"specificity\": [],\n",
        "        \"precision\": []\n",
        "    }\n",
        "\n",
        "    # Total samples\n",
        "    total = cm.sum()\n",
        "\n",
        "    for idx, cls in enumerate(labels):\n",
        "        TP = cm[idx, idx]\n",
        "        FN = cm[idx, :].sum() - TP\n",
        "        FP = cm[:, idx].sum() - TP\n",
        "        TN = total - TP - FP - FN\n",
        "\n",
        "        # Per-class metrics\n",
        "        acc = (TP + TN) / total\n",
        "        sens = TP / (TP + FN) if (TP + FN) > 0 else 0.0\n",
        "        spec = TN / (TN + FP) if (TN + FP) > 0 else 0.0\n",
        "        prec = TP / (TP + FP) if (TP + FP) > 0 else 0.0\n",
        "\n",
        "        metrics[\"class\"].append(cls)\n",
        "        metrics[\"accuracy\"].append(acc)\n",
        "        metrics[\"sensitivity (recall)\"].append(sens)\n",
        "        metrics[\"specificity\"].append(spec)\n",
        "        metrics[\"precision\"].append(prec)\n",
        "\n",
        "    return pd.DataFrame(metrics)\n"
      ]
    },
    {
      "cell_type": "code",
      "execution_count": null,
      "id": "2ef7ecc0-0e98-47cd-9276-cc4e865c7c78",
      "metadata": {
        "colab": {
          "background_save": true
        },
        "id": "2ef7ecc0-0e98-47cd-9276-cc4e865c7c78",
        "outputId": "f46e5f5a-4b67-4631-82e4-0ded84efb8bc"
      },
      "outputs": [
        {
          "data": {
            "application/vnd.google.colaboratory.intrinsic+json": {
              "summary": "{\n  \"name\": \"report_df\",\n  \"rows\": 10,\n  \"fields\": [\n    {\n      \"column\": \"class\",\n      \"properties\": {\n        \"dtype\": \"number\",\n        \"std\": 3,\n        \"min\": 0,\n        \"max\": 9,\n        \"num_unique_values\": 10,\n        \"samples\": [\n          8,\n          1,\n          5\n        ],\n        \"semantic_type\": \"\",\n        \"description\": \"\"\n      }\n    },\n    {\n      \"column\": \"accuracy\",\n      \"properties\": {\n        \"dtype\": \"number\",\n        \"std\": 0.025501977007918203,\n        \"min\": 0.9238204066085798,\n        \"max\": 0.9995238775413037,\n        \"num_unique_values\": 8,\n        \"samples\": [\n          0.9987144693615198,\n          0.999476265295434,\n          0.9238204066085798\n        ],\n        \"semantic_type\": \"\",\n        \"description\": \"\"\n      }\n    },\n    {\n      \"column\": \"sensitivity (recall)\",\n      \"properties\": {\n        \"dtype\": \"number\",\n        \"std\": 0.24332259747906523,\n        \"min\": 0.2265246853823814,\n        \"max\": 0.9990176817288802,\n        \"num_unique_values\": 10,\n        \"samples\": [\n          0.9940944881889764,\n          0.9953031596925704,\n          0.9978925184404637\n        ],\n        \"semantic_type\": \"\",\n        \"description\": \"\"\n      }\n    },\n    {\n      \"column\": \"specificity\",\n      \"properties\": {\n        \"dtype\": \"number\",\n        \"std\": 0.01602873984744688,\n        \"min\": 0.9609284128159036,\n        \"max\": 0.9998943866504726,\n        \"num_unique_values\": 10,\n        \"samples\": [\n          0.9992620315217964,\n          0.999142596859761,\n          0.9610049725202826\n        ],\n        \"semantic_type\": \"\",\n        \"description\": \"\"\n      }\n    },\n    {\n      \"column\": \"precision\",\n      \"properties\": {\n        \"dtype\": \"number\",\n        \"std\": 0.1112391702869253,\n        \"min\": 0.7176960970064419,\n        \"max\": 0.9986345015930814,\n        \"num_unique_values\": 10,\n        \"samples\": [\n          0.9931170108161259,\n          0.9931827865360034,\n          0.7176960970064419\n        ],\n        \"semantic_type\": \"\",\n        \"description\": \"\"\n      }\n    }\n  ]\n}",
              "type": "dataframe",
              "variable_name": "report_df"
            },
            "text/html": [
              "\n",
              "  <div id=\"df-53f9e613-7c11-41c5-a22c-ae281c24a73e\" class=\"colab-df-container\">\n",
              "    <div>\n",
              "<style scoped>\n",
              "    .dataframe tbody tr th:only-of-type {\n",
              "        vertical-align: middle;\n",
              "    }\n",
              "\n",
              "    .dataframe tbody tr th {\n",
              "        vertical-align: top;\n",
              "    }\n",
              "\n",
              "    .dataframe thead th {\n",
              "        text-align: right;\n",
              "    }\n",
              "</style>\n",
              "<table border=\"1\" class=\"dataframe\">\n",
              "  <thead>\n",
              "    <tr style=\"text-align: right;\">\n",
              "      <th></th>\n",
              "      <th>accuracy</th>\n",
              "      <th>sensitivity (recall)</th>\n",
              "      <th>specificity</th>\n",
              "      <th>precision</th>\n",
              "    </tr>\n",
              "    <tr>\n",
              "      <th>class</th>\n",
              "      <th></th>\n",
              "      <th></th>\n",
              "      <th></th>\n",
              "      <th></th>\n",
              "    </tr>\n",
              "  </thead>\n",
              "  <tbody>\n",
              "    <tr>\n",
              "      <th>0</th>\n",
              "      <td>0.923820</td>\n",
              "      <td>0.226525</td>\n",
              "      <td>0.999894</td>\n",
              "      <td>0.995745</td>\n",
              "    </tr>\n",
              "    <tr>\n",
              "      <th>1</th>\n",
              "      <td>0.998714</td>\n",
              "      <td>0.995303</td>\n",
              "      <td>0.999143</td>\n",
              "      <td>0.993183</td>\n",
              "    </tr>\n",
              "    <tr>\n",
              "      <th>2</th>\n",
              "      <td>0.964196</td>\n",
              "      <td>0.993777</td>\n",
              "      <td>0.960928</td>\n",
              "      <td>0.737478</td>\n",
              "    </tr>\n",
              "    <tr>\n",
              "      <th>3</th>\n",
              "      <td>0.998714</td>\n",
              "      <td>0.995864</td>\n",
              "      <td>0.999044</td>\n",
              "      <td>0.991762</td>\n",
              "    </tr>\n",
              "    <tr>\n",
              "      <th>4</th>\n",
              "      <td>0.994239</td>\n",
              "      <td>0.999018</td>\n",
              "      <td>0.993726</td>\n",
              "      <td>0.944728</td>\n",
              "    </tr>\n",
              "    <tr>\n",
              "      <th>5</th>\n",
              "      <td>0.964338</td>\n",
              "      <td>0.997893</td>\n",
              "      <td>0.961005</td>\n",
              "      <td>0.717696</td>\n",
              "    </tr>\n",
              "    <tr>\n",
              "      <th>6</th>\n",
              "      <td>0.999476</td>\n",
              "      <td>0.996133</td>\n",
              "      <td>0.999842</td>\n",
              "      <td>0.998547</td>\n",
              "    </tr>\n",
              "    <tr>\n",
              "      <th>7</th>\n",
              "      <td>0.999524</td>\n",
              "      <td>0.996820</td>\n",
              "      <td>0.999840</td>\n",
              "      <td>0.998635</td>\n",
              "    </tr>\n",
              "    <tr>\n",
              "      <th>8</th>\n",
              "      <td>0.998762</td>\n",
              "      <td>0.994094</td>\n",
              "      <td>0.999262</td>\n",
              "      <td>0.993117</td>\n",
              "    </tr>\n",
              "    <tr>\n",
              "      <th>9</th>\n",
              "      <td>0.998714</td>\n",
              "      <td>0.994747</td>\n",
              "      <td>0.999154</td>\n",
              "      <td>0.992377</td>\n",
              "    </tr>\n",
              "  </tbody>\n",
              "</table>\n",
              "</div>\n",
              "    <div class=\"colab-df-buttons\">\n",
              "\n",
              "  <div class=\"colab-df-container\">\n",
              "    <button class=\"colab-df-convert\" onclick=\"convertToInteractive('df-53f9e613-7c11-41c5-a22c-ae281c24a73e')\"\n",
              "            title=\"Convert this dataframe to an interactive table.\"\n",
              "            style=\"display:none;\">\n",
              "\n",
              "  <svg xmlns=\"http://www.w3.org/2000/svg\" height=\"24px\" viewBox=\"0 -960 960 960\">\n",
              "    <path d=\"M120-120v-720h720v720H120Zm60-500h600v-160H180v160Zm220 220h160v-160H400v160Zm0 220h160v-160H400v160ZM180-400h160v-160H180v160Zm440 0h160v-160H620v160ZM180-180h160v-160H180v160Zm440 0h160v-160H620v160Z\"/>\n",
              "  </svg>\n",
              "    </button>\n",
              "\n",
              "  <style>\n",
              "    .colab-df-container {\n",
              "      display:flex;\n",
              "      gap: 12px;\n",
              "    }\n",
              "\n",
              "    .colab-df-convert {\n",
              "      background-color: #E8F0FE;\n",
              "      border: none;\n",
              "      border-radius: 50%;\n",
              "      cursor: pointer;\n",
              "      display: none;\n",
              "      fill: #1967D2;\n",
              "      height: 32px;\n",
              "      padding: 0 0 0 0;\n",
              "      width: 32px;\n",
              "    }\n",
              "\n",
              "    .colab-df-convert:hover {\n",
              "      background-color: #E2EBFA;\n",
              "      box-shadow: 0px 1px 2px rgba(60, 64, 67, 0.3), 0px 1px 3px 1px rgba(60, 64, 67, 0.15);\n",
              "      fill: #174EA6;\n",
              "    }\n",
              "\n",
              "    .colab-df-buttons div {\n",
              "      margin-bottom: 4px;\n",
              "    }\n",
              "\n",
              "    [theme=dark] .colab-df-convert {\n",
              "      background-color: #3B4455;\n",
              "      fill: #D2E3FC;\n",
              "    }\n",
              "\n",
              "    [theme=dark] .colab-df-convert:hover {\n",
              "      background-color: #434B5C;\n",
              "      box-shadow: 0px 1px 3px 1px rgba(0, 0, 0, 0.15);\n",
              "      filter: drop-shadow(0px 1px 2px rgba(0, 0, 0, 0.3));\n",
              "      fill: #FFFFFF;\n",
              "    }\n",
              "  </style>\n",
              "\n",
              "    <script>\n",
              "      const buttonEl =\n",
              "        document.querySelector('#df-53f9e613-7c11-41c5-a22c-ae281c24a73e button.colab-df-convert');\n",
              "      buttonEl.style.display =\n",
              "        google.colab.kernel.accessAllowed ? 'block' : 'none';\n",
              "\n",
              "      async function convertToInteractive(key) {\n",
              "        const element = document.querySelector('#df-53f9e613-7c11-41c5-a22c-ae281c24a73e');\n",
              "        const dataTable =\n",
              "          await google.colab.kernel.invokeFunction('convertToInteractive',\n",
              "                                                    [key], {});\n",
              "        if (!dataTable) return;\n",
              "\n",
              "        const docLinkHtml = 'Like what you see? Visit the ' +\n",
              "          '<a target=\"_blank\" href=https://colab.research.google.com/notebooks/data_table.ipynb>data table notebook</a>'\n",
              "          + ' to learn more about interactive tables.';\n",
              "        element.innerHTML = '';\n",
              "        dataTable['output_type'] = 'display_data';\n",
              "        await google.colab.output.renderOutput(dataTable, element);\n",
              "        const docLink = document.createElement('div');\n",
              "        docLink.innerHTML = docLinkHtml;\n",
              "        element.appendChild(docLink);\n",
              "      }\n",
              "    </script>\n",
              "  </div>\n",
              "\n",
              "\n",
              "    <div id=\"df-1fdcef56-d675-4fb0-9369-ae3b979b3f22\">\n",
              "      <button class=\"colab-df-quickchart\" onclick=\"quickchart('df-1fdcef56-d675-4fb0-9369-ae3b979b3f22')\"\n",
              "                title=\"Suggest charts\"\n",
              "                style=\"display:none;\">\n",
              "\n",
              "<svg xmlns=\"http://www.w3.org/2000/svg\" height=\"24px\"viewBox=\"0 0 24 24\"\n",
              "     width=\"24px\">\n",
              "    <g>\n",
              "        <path d=\"M19 3H5c-1.1 0-2 .9-2 2v14c0 1.1.9 2 2 2h14c1.1 0 2-.9 2-2V5c0-1.1-.9-2-2-2zM9 17H7v-7h2v7zm4 0h-2V7h2v10zm4 0h-2v-4h2v4z\"/>\n",
              "    </g>\n",
              "</svg>\n",
              "      </button>\n",
              "\n",
              "<style>\n",
              "  .colab-df-quickchart {\n",
              "      --bg-color: #E8F0FE;\n",
              "      --fill-color: #1967D2;\n",
              "      --hover-bg-color: #E2EBFA;\n",
              "      --hover-fill-color: #174EA6;\n",
              "      --disabled-fill-color: #AAA;\n",
              "      --disabled-bg-color: #DDD;\n",
              "  }\n",
              "\n",
              "  [theme=dark] .colab-df-quickchart {\n",
              "      --bg-color: #3B4455;\n",
              "      --fill-color: #D2E3FC;\n",
              "      --hover-bg-color: #434B5C;\n",
              "      --hover-fill-color: #FFFFFF;\n",
              "      --disabled-bg-color: #3B4455;\n",
              "      --disabled-fill-color: #666;\n",
              "  }\n",
              "\n",
              "  .colab-df-quickchart {\n",
              "    background-color: var(--bg-color);\n",
              "    border: none;\n",
              "    border-radius: 50%;\n",
              "    cursor: pointer;\n",
              "    display: none;\n",
              "    fill: var(--fill-color);\n",
              "    height: 32px;\n",
              "    padding: 0;\n",
              "    width: 32px;\n",
              "  }\n",
              "\n",
              "  .colab-df-quickchart:hover {\n",
              "    background-color: var(--hover-bg-color);\n",
              "    box-shadow: 0 1px 2px rgba(60, 64, 67, 0.3), 0 1px 3px 1px rgba(60, 64, 67, 0.15);\n",
              "    fill: var(--button-hover-fill-color);\n",
              "  }\n",
              "\n",
              "  .colab-df-quickchart-complete:disabled,\n",
              "  .colab-df-quickchart-complete:disabled:hover {\n",
              "    background-color: var(--disabled-bg-color);\n",
              "    fill: var(--disabled-fill-color);\n",
              "    box-shadow: none;\n",
              "  }\n",
              "\n",
              "  .colab-df-spinner {\n",
              "    border: 2px solid var(--fill-color);\n",
              "    border-color: transparent;\n",
              "    border-bottom-color: var(--fill-color);\n",
              "    animation:\n",
              "      spin 1s steps(1) infinite;\n",
              "  }\n",
              "\n",
              "  @keyframes spin {\n",
              "    0% {\n",
              "      border-color: transparent;\n",
              "      border-bottom-color: var(--fill-color);\n",
              "      border-left-color: var(--fill-color);\n",
              "    }\n",
              "    20% {\n",
              "      border-color: transparent;\n",
              "      border-left-color: var(--fill-color);\n",
              "      border-top-color: var(--fill-color);\n",
              "    }\n",
              "    30% {\n",
              "      border-color: transparent;\n",
              "      border-left-color: var(--fill-color);\n",
              "      border-top-color: var(--fill-color);\n",
              "      border-right-color: var(--fill-color);\n",
              "    }\n",
              "    40% {\n",
              "      border-color: transparent;\n",
              "      border-right-color: var(--fill-color);\n",
              "      border-top-color: var(--fill-color);\n",
              "    }\n",
              "    60% {\n",
              "      border-color: transparent;\n",
              "      border-right-color: var(--fill-color);\n",
              "    }\n",
              "    80% {\n",
              "      border-color: transparent;\n",
              "      border-right-color: var(--fill-color);\n",
              "      border-bottom-color: var(--fill-color);\n",
              "    }\n",
              "    90% {\n",
              "      border-color: transparent;\n",
              "      border-bottom-color: var(--fill-color);\n",
              "    }\n",
              "  }\n",
              "</style>\n",
              "\n",
              "      <script>\n",
              "        async function quickchart(key) {\n",
              "          const quickchartButtonEl =\n",
              "            document.querySelector('#' + key + ' button');\n",
              "          quickchartButtonEl.disabled = true;  // To prevent multiple clicks.\n",
              "          quickchartButtonEl.classList.add('colab-df-spinner');\n",
              "          try {\n",
              "            const charts = await google.colab.kernel.invokeFunction(\n",
              "                'suggestCharts', [key], {});\n",
              "          } catch (error) {\n",
              "            console.error('Error during call to suggestCharts:', error);\n",
              "          }\n",
              "          quickchartButtonEl.classList.remove('colab-df-spinner');\n",
              "          quickchartButtonEl.classList.add('colab-df-quickchart-complete');\n",
              "        }\n",
              "        (() => {\n",
              "          let quickchartButtonEl =\n",
              "            document.querySelector('#df-1fdcef56-d675-4fb0-9369-ae3b979b3f22 button');\n",
              "          quickchartButtonEl.style.display =\n",
              "            google.colab.kernel.accessAllowed ? 'block' : 'none';\n",
              "        })();\n",
              "      </script>\n",
              "    </div>\n",
              "\n",
              "  <div id=\"id_3f342e3a-d962-47f0-85c8-245a3efc0bcf\">\n",
              "    <style>\n",
              "      .colab-df-generate {\n",
              "        background-color: #E8F0FE;\n",
              "        border: none;\n",
              "        border-radius: 50%;\n",
              "        cursor: pointer;\n",
              "        display: none;\n",
              "        fill: #1967D2;\n",
              "        height: 32px;\n",
              "        padding: 0 0 0 0;\n",
              "        width: 32px;\n",
              "      }\n",
              "\n",
              "      .colab-df-generate:hover {\n",
              "        background-color: #E2EBFA;\n",
              "        box-shadow: 0px 1px 2px rgba(60, 64, 67, 0.3), 0px 1px 3px 1px rgba(60, 64, 67, 0.15);\n",
              "        fill: #174EA6;\n",
              "      }\n",
              "\n",
              "      [theme=dark] .colab-df-generate {\n",
              "        background-color: #3B4455;\n",
              "        fill: #D2E3FC;\n",
              "      }\n",
              "\n",
              "      [theme=dark] .colab-df-generate:hover {\n",
              "        background-color: #434B5C;\n",
              "        box-shadow: 0px 1px 3px 1px rgba(0, 0, 0, 0.15);\n",
              "        filter: drop-shadow(0px 1px 2px rgba(0, 0, 0, 0.3));\n",
              "        fill: #FFFFFF;\n",
              "      }\n",
              "    </style>\n",
              "    <button class=\"colab-df-generate\" onclick=\"generateWithVariable('report_df')\"\n",
              "            title=\"Generate code using this dataframe.\"\n",
              "            style=\"display:none;\">\n",
              "\n",
              "  <svg xmlns=\"http://www.w3.org/2000/svg\" height=\"24px\"viewBox=\"0 0 24 24\"\n",
              "       width=\"24px\">\n",
              "    <path d=\"M7,19H8.4L18.45,9,17,7.55,7,17.6ZM5,21V16.75L18.45,3.32a2,2,0,0,1,2.83,0l1.4,1.43a1.91,1.91,0,0,1,.58,1.4,1.91,1.91,0,0,1-.58,1.4L9.25,21ZM18.45,9,17,7.55Zm-12,3A5.31,5.31,0,0,0,4.9,8.1,5.31,5.31,0,0,0,1,6.5,5.31,5.31,0,0,0,4.9,4.9,5.31,5.31,0,0,0,6.5,1,5.31,5.31,0,0,0,8.1,4.9,5.31,5.31,0,0,0,12,6.5,5.46,5.46,0,0,0,6.5,12Z\"/>\n",
              "  </svg>\n",
              "    </button>\n",
              "    <script>\n",
              "      (() => {\n",
              "      const buttonEl =\n",
              "        document.querySelector('#id_3f342e3a-d962-47f0-85c8-245a3efc0bcf button.colab-df-generate');\n",
              "      buttonEl.style.display =\n",
              "        google.colab.kernel.accessAllowed ? 'block' : 'none';\n",
              "\n",
              "      buttonEl.onclick = () => {\n",
              "        google.colab.notebook.generateWithVariable('report_df');\n",
              "      }\n",
              "      })();\n",
              "    </script>\n",
              "  </div>\n",
              "\n",
              "    </div>\n",
              "  </div>\n"
            ],
            "text/plain": [
              "       accuracy  sensitivity (recall)  specificity  precision\n",
              "class                                                        \n",
              "0      0.923820              0.226525     0.999894   0.995745\n",
              "1      0.998714              0.995303     0.999143   0.993183\n",
              "2      0.964196              0.993777     0.960928   0.737478\n",
              "3      0.998714              0.995864     0.999044   0.991762\n",
              "4      0.994239              0.999018     0.993726   0.944728\n",
              "5      0.964338              0.997893     0.961005   0.717696\n",
              "6      0.999476              0.996133     0.999842   0.998547\n",
              "7      0.999524              0.996820     0.999840   0.998635\n",
              "8      0.998762              0.994094     0.999262   0.993117\n",
              "9      0.998714              0.994747     0.999154   0.992377"
            ]
          },
          "execution_count": 14,
          "metadata": {},
          "output_type": "execute_result"
        }
      ],
      "source": [
        "# Report the performance\n",
        "report_df = multiclass_metrics(labels_test, final_preds, np.arange(10).tolist()).set_index('class')\n",
        "report_df"
      ]
    }
  ],
  "metadata": {
    "accelerator": "GPU",
    "colab": {
      "gpuType": "T4",
      "provenance": []
    },
    "kernelspec": {
      "display_name": "Python 3",
      "name": "python3"
    },
    "language_info": {
      "name": "python"
    }
  },
  "nbformat": 4,
  "nbformat_minor": 5
}